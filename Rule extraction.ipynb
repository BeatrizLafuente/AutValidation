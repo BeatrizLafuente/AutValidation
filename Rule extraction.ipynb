{
 "cells": [
  {
   "cell_type": "code",
   "execution_count": 1,
   "metadata": {
    "collapsed": true,
    "pycharm": {
     "name": "#%%\n"
    }
   },
   "outputs": [],
   "source": [
    "#from bs4 import BeautifulSoup\n",
    "import re\n",
    "import xml.etree.ElementTree as ET\n",
    "from attribute import Attribute as att"
   ]
  },
  {
   "cell_type": "code",
   "execution_count": 2,
   "outputs": [],
   "source": [
    "my_parser = ET.XMLParser(encoding='utf-8')\n",
    "tree = ET.parse('dicom-2020a.dicomextract.txt', parser=my_parser)\n",
    "root = tree.getroot()"
   ],
   "metadata": {
    "collapsed": false,
    "pycharm": {
     "name": "#%%\n"
    }
   }
  },
  {
   "cell_type": "code",
   "execution_count": 3,
   "outputs": [],
   "source": [
    "c=[]\n",
    "c = root.findall(\".//ItemEntry[@Type='1C']\") + root.findall(\".//ItemEntry[@Type='2C']\")"
   ],
   "metadata": {
    "collapsed": false,
    "pycharm": {
     "name": "#%%\n"
    }
   }
  },
  {
   "cell_type": "code",
   "execution_count": 4,
   "outputs": [],
   "source": [
    "#Dictionary with conditional attributes:\n",
    "attribute_dict = []\n",
    "for a in range(len(c)):\n",
    "    description = c[a].attrib['Description']\n",
    "    tag = c[a].attrib['Tag']\n",
    "    type = c[a].attrib['Type']\n",
    "    attribute_dicom = att(description,tag, type)\n",
    "    attribute_dict.append(attribute_dicom)"
   ],
   "metadata": {
    "collapsed": false,
    "pycharm": {
     "name": "#%%\n"
    }
   }
  },
  {
   "cell_type": "code",
   "execution_count": 5,
   "outputs": [
    {
     "name": "stdout",
     "output_type": "stream",
     "text": [
      "Details for retrieving instances via WADO-RS. Note: Retrieval via WADO-URI is addressed in the WADO Retrieval Sequence (0040,E023). Retrieval via the IHE XDS-I.b RAD-69 Transaction is addressed in the XDS Retrieval Sequence (0040,E024).Required if DICOM Retrieval Sequence (0040,E021), DICOM Media Retrieval Sequence (0040,E022), WADO Retrieval Sequence (0040,E023) and XDS Retrieval Sequence (0040,E024) are not present. May be present otherwise. One or more Items shall be included in this Sequence.\n",
      "Details for retrieving instances via WADO-RS. Required if DICOM Retrieval Sequence (0040,E021), DICOM Media Retrieval Sequence (0040,E022), WADO Retrieval Sequence (0040,E023) and XDS Retrieval Sequence (0040,E024) are not present. May be present otherwise. One or more Items shall be included in this Sequence.\n"
     ]
    }
   ],
   "source": [
    "# 24, 38\n",
    "print(attribute_dict[78].description)\n",
    "attribute_noNote= att.clean_note(attribute_dict)\n",
    "print(attribute_noNote[78].description)"
   ],
   "metadata": {
    "collapsed": false,
    "pycharm": {
     "name": "#%%\n"
    }
   }
  },
  {
   "cell_type": "code",
   "execution_count": 12,
   "outputs": [
    {
     "name": "stdout",
     "output_type": "stream",
     "text": [
      "40\n"
     ]
    }
   ],
   "source": [
    "required = att.find_req(attribute_noNote)\n",
    "print(len(attribute_dict)-len(required))"
   ],
   "metadata": {
    "collapsed": false,
    "pycharm": {
     "name": "#%%\n"
    }
   }
  },
  {
   "cell_type": "code",
   "execution_count": 11,
   "outputs": [
    {
     "name": "stdout",
     "output_type": "stream",
     "text": [
      "(0040,A30A)\n",
      "40\n"
     ]
    }
   ],
   "source": [
    "#cond_notReq = att.remove_required(attribute_dict,required)\n",
    "#con_notReq[10], Tag = 0040,E025: deleting the note statement, the Required if has been deleted as well\n",
    "#print(cond_notReq[10].tag)\n",
    "#print(len(cond_notReq))"
   ],
   "metadata": {
    "collapsed": false,
    "pycharm": {
     "name": "#%%\n"
    }
   }
  },
  {
   "cell_type": "code",
   "execution_count": 13,
   "outputs": [
    {
     "name": "stdout",
     "output_type": "stream",
     "text": [
      "45\n"
     ]
    }
   ],
   "source": [
    "#Check the remove required method\n",
    "rules_shall= att.find_shall(attribute_noNote)\n",
    "print(len(rules_shall))"
   ],
   "metadata": {
    "collapsed": false,
    "pycharm": {
     "name": "#%%\n"
    }
   }
  },
  {
   "cell_type": "code",
   "execution_count": 45,
   "outputs": [
    {
     "name": "stdout",
     "output_type": "stream",
     "text": [
      "185\n",
      "190\n",
      "191\n",
      "218\n",
      "296\n",
      "334\n",
      "377\n",
      "414\n",
      "505\n",
      "567\n",
      "919\n",
      "959\n",
      "1002\n",
      "1009\n",
      "1010\n",
      "1014\n",
      "1025\n",
      "1062\n",
      "1085\n",
      "1092\n",
      "1192\n",
      "1344\n",
      "1345\n",
      "1500\n",
      "1506\n",
      "1553\n",
      "1557\n",
      "1585\n",
      "1597\n",
      "1602\n",
      "1610\n",
      "1806\n",
      "1807\n",
      "1815\n",
      "34\n"
     ]
    }
   ],
   "source": [
    "required = []\n",
    "for a in range(len(attribute_dict)):\n",
    "    if 'differ' in attribute_dict[a].description:\n",
    "        required.append(a)\n",
    "        print(a)\n",
    "print(len(required))"
   ],
   "metadata": {
    "collapsed": false,
    "pycharm": {
     "name": "#%%\n"
    }
   }
  },
  {
   "cell_type": "code",
   "execution_count": 47,
   "outputs": [
    {
     "name": "stdout",
     "output_type": "stream",
     "text": [
      "(300A,067B) Radiation Generation Modes defining the type of radiation and characteristics of the beam generated. Radiation Generation Modes shall characterize different primary beam fluence. The number of Items included in this Sequence shall equal the value of Number of Radiation Generation Modes(300A,0685). Required if Number of Radiation Generation Modes (300A,0685) is present. 1C\n"
     ]
    }
   ],
   "source": [
    "b = attribute_dict[567]\n",
    "print(b.tag, b.description, b.type)"
   ],
   "metadata": {
    "collapsed": false,
    "pycharm": {
     "name": "#%%\n"
    }
   }
  },
  {
   "cell_type": "code",
   "execution_count": null,
   "outputs": [],
   "source": [],
   "metadata": {
    "collapsed": false,
    "pycharm": {
     "name": "#%%\n"
    }
   }
  }
 ],
 "metadata": {
  "kernelspec": {
   "display_name": "Python 3",
   "language": "python",
   "name": "python3"
  },
  "language_info": {
   "codemirror_mode": {
    "name": "ipython",
    "version": 2
   },
   "file_extension": ".py",
   "mimetype": "text/x-python",
   "name": "python",
   "nbconvert_exporter": "python",
   "pygments_lexer": "ipython2",
   "version": "2.7.6"
  }
 },
 "nbformat": 4,
 "nbformat_minor": 0
}