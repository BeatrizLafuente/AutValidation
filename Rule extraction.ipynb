{
 "cells": [
  {
   "cell_type": "code",
   "execution_count": null,
   "metadata": {
    "collapsed": true,
    "pycharm": {
     "name": "#%%\n"
    }
   },
   "outputs": [],
   "source": [
    "#from bs4 import BeautifulSoup\n",
    "import re\n",
    "import pandas as pd\n",
    "import xml.etree.ElementTree as ET\n",
    "from attribute import Attribute as att\n",
    "from copy import deepcopy\n",
    "import matplotlib.pyplot as plt\n",
    "import seaborn as sns\n",
    "from transformers import BertTokenizer, BertForSequenceClassification\n",
    "from sklearn.svm import LinearSVC\n",
    "from sklearn.svm import SVC\n",
    "from sklearn.metrics import multilabel_confusion_matrix, ConfusionMatrixDisplay\n",
    "from sklearn.multioutput import MultiOutputClassifier\n",
    "from sklearn.ensemble import RandomForestClassifier\n",
    "from sklearn.metrics import roc_auc_score\n",
    "from sklearn.linear_model import *"
   ]
  },
  {
   "cell_type": "code",
   "execution_count": null,
   "outputs": [],
   "source": [
    "import pandas as pd\n",
    "import numpy as np\n",
    "import tensorflow as tf\n",
    "import keras\n",
    "from sklearn.preprocessing import OneHotEncoder, LabelEncoder\n",
    "from sklearn.pipeline import Pipeline\n",
    "from sklearn.model_selection import train_test_split\n",
    "from keras.preprocessing.text import Tokenizer\n",
    "from keras import preprocessing\n",
    "from keras_preprocessing.sequence import pad_sequences\n",
    "from keras.layers import LSTM, Dense, Dropout, Input, Embedding, Flatten, Dropout\n",
    "from keras import Model\n",
    "from sklearn.preprocessing import StandardScaler"
   ],
   "metadata": {
    "collapsed": false,
    "pycharm": {
     "name": "#%%\n"
    }
   }
  },
  {
   "cell_type": "code",
   "execution_count": null,
   "outputs": [],
   "source": [
    "my_parser = ET.XMLParser(encoding='utf-8')\n",
    "tree = ET.parse('dicom-2020a.dicomextract.txt', parser=my_parser)\n",
    "#tree = ET.parse('xml DICOM', parser=my_parser)\n",
    "root = tree.getroot()"
   ],
   "metadata": {
    "collapsed": false,
    "pycharm": {
     "name": "#%%\n"
    }
   }
  },
  {
   "cell_type": "code",
   "execution_count": null,
   "outputs": [],
   "source": [
    "c=[]\n",
    "c = root.findall(\".//ItemEntry[@Type='1C']\") + root.findall(\".//ItemEntry[@Type='2C']\")"
   ],
   "metadata": {
    "collapsed": false,
    "pycharm": {
     "name": "#%%\n"
    }
   }
  },
  {
   "cell_type": "code",
   "execution_count": null,
   "outputs": [],
   "source": [
    "#Dictionary with conditional attributes:\n",
    "attribute_dict = []\n",
    "for a in c:\n",
    "    description = a.attrib['Description']\n",
    "    tag = a.attrib['Tag']\n",
    "    type = a.attrib['Type']\n",
    "    attribute_dicom = att(description,tag, type)\n",
    "    attribute_dict.append(attribute_dicom)\n",
    "attribute_original = deepcopy(attribute_dict)"
   ],
   "metadata": {
    "collapsed": false,
    "pycharm": {
     "name": "#%%\n"
    }
   }
  },
  {
   "cell_type": "code",
   "execution_count": null,
   "outputs": [],
   "source": [
    "for a in attribute_original:\n",
    "    print(a.description, '\\n')\n",
    "print(len(attribute_original))"
   ],
   "metadata": {
    "collapsed": false,
    "pycharm": {
     "name": "#%%\n"
    }
   }
  },
  {
   "cell_type": "code",
   "execution_count": null,
   "outputs": [],
   "source": [
    "for a in attribute_dict:\n",
    "    a.set_only_rule_def()\n",
    "#\n",
    "# for i in attribute_dict:\n",
    "#     print(i.description, '\\n')"
   ],
   "metadata": {
    "collapsed": false,
    "pycharm": {
     "name": "#%%\n"
    }
   }
  },
  {
   "cell_type": "code",
   "execution_count": null,
   "outputs": [],
   "source": [
    "# Remove Notes, See Section, May be present\n",
    "for a in attribute_dict:\n",
    "    a.clean_note()\n",
    "    a.clean_section()\n",
    "    a.clean_may_be_present()\n",
    "    a.clean_num_items_present()\n",
    "\n",
    "for i in attribute_dict:\n",
    "    print(i.description, '\\n')\n"
   ],
   "metadata": {
    "collapsed": false,
    "pycharm": {
     "name": "#%%\n"
    }
   }
  },
  {
   "cell_type": "code",
   "execution_count": null,
   "outputs": [],
   "source": [
    "for a in attribute_dict:\n",
    "    a.clean_enumerated_values()\n",
    "\n",
    "for i in attribute_dict:\n",
    "    print(i.description, '\\n')"
   ],
   "metadata": {
    "collapsed": false,
    "pycharm": {
     "name": "#%%\n"
    }
   }
  },
  {
   "cell_type": "code",
   "execution_count": null,
   "outputs": [],
   "source": [
    "for a in attribute_dict:\n",
    "    if 'be empty' in a.description:\n",
    "        print(a.description)"
   ],
   "metadata": {
    "collapsed": false,
    "pycharm": {
     "name": "#%%\n"
    }
   }
  },
  {
   "cell_type": "code",
   "execution_count": null,
   "outputs": [],
   "source": [
    "# ------------------------------- DATA PREPROCESSING ----------------------------------"
   ],
   "metadata": {
    "collapsed": false,
    "pycharm": {
     "name": "#%%\n"
    }
   }
  },
  {
   "cell_type": "code",
   "execution_count": null,
   "outputs": [],
   "source": [
    "train_df = pd.read_csv('data.csv')"
   ],
   "metadata": {
    "collapsed": false,
    "pycharm": {
     "name": "#%%\n"
    }
   }
  },
  {
   "cell_type": "code",
   "execution_count": null,
   "outputs": [],
   "source": [
    "cols = train_df.columns\n",
    "label_cols = list(cols[0:7])\n",
    "label_cols"
   ],
   "metadata": {
    "collapsed": false,
    "pycharm": {
     "name": "#%%\n"
    }
   }
  },
  {
   "cell_type": "code",
   "execution_count": null,
   "outputs": [],
   "source": [
    "train_df['Attribute description']"
   ],
   "metadata": {
    "collapsed": false,
    "pycharm": {
     "name": "#%%\n"
    }
   }
  },
  {
   "cell_type": "code",
   "execution_count": null,
   "outputs": [],
   "source": [
    "def clean_train_data(df, name):\n",
    "    for i in range(len(df)):\n",
    "        value = re.findall('[^\\\\(.*][A-Z]{2,}[^(.*\\\\)]', df[name][i])\n",
    "        tag = re.findall('\\\\([A-Z\\\\d]{4},[A-Z\\\\d]{4}\\\\)', df[name][i])\n",
    "        att = re.findall('(\\\\s\\\\b[A-Z]{1}[a-z]*\\\\b)', df[name][i])\n",
    "        rep = re.findall(r'ATTRIBUTE*', df[name][i])\n",
    "        if value:\n",
    "            for val in value:\n",
    "                df.loc[i,name]= df.loc[i,name].replace(val, \" VALUE \")\n",
    "        if tag:\n",
    "            for t in tag:\n",
    "                df.loc[i,name]= df.loc[i,name].replace(t, \"TAG\")\n",
    "\n",
    "        if att:\n",
    "            for a in range(len(att)):\n",
    "                if a !=0:\n",
    "                    df[name][i] = df[name][i].replace(att[a], \"\")\n",
    "                else:\n",
    "                    df[name][i] = df[name][i].replace(att[a], \" ATTRIBUTE \")\n",
    "\n",
    "\n",
    "    return df"
   ],
   "metadata": {
    "collapsed": false,
    "pycharm": {
     "name": "#%%\n"
    }
   }
  },
  {
   "cell_type": "code",
   "execution_count": null,
   "outputs": [],
   "source": [
    "def clean_class_data(desc):\n",
    "    for d in range(len(desc)):\n",
    "        value = re.findall('[^\\\\(.*][A-Z]{2,}[^(.*\\\\)]', desc[d])\n",
    "        tag = re.findall('\\\\([A-Z\\\\d]{4},[A-Z\\\\d]{4}\\\\)', desc[d])\n",
    "        att = re.findall('(\\\\s\\\\b[A-Z]{1}[a-z]*\\\\b)', desc[d])\n",
    "        rep = re.findall(r'ATTRIBUTE*', desc[d])\n",
    "        if value:\n",
    "            for val in value:\n",
    "                desc[d] = desc[d].replace(val, \" VALUE \")\n",
    "\n",
    "        if tag:\n",
    "            for t in tag:\n",
    "                desc[d] = desc[d].replace(t, \"TAG\")\n",
    "\n",
    "        if att:\n",
    "            for a in range(len(att)):\n",
    "                if a !=len(att):\n",
    "                    desc[d] = desc[d].replace(att[a], \"\")\n",
    "                else:\n",
    "                    desc[d] = desc[d].replace(att[a], \" ATTRIBUTE \")\n",
    "\n",
    "    return desc"
   ],
   "metadata": {
    "collapsed": false,
    "pycharm": {
     "name": "#%%\n"
    }
   }
  },
  {
   "cell_type": "code",
   "execution_count": null,
   "outputs": [],
   "source": [
    "# attribute_dict[10].description"
   ],
   "metadata": {
    "collapsed": false,
    "pycharm": {
     "name": "#%%\n"
    }
   }
  },
  {
   "cell_type": "code",
   "execution_count": null,
   "outputs": [],
   "source": [
    "clean_train_data(train_df, 'Attribute description')\n",
    "print(train_df.loc[0,'Attribute description'])\n",
    "# print(cleaned_data.loc[0,'Attribute description'])\n",
    "print(attribute_dict[0].description)"
   ],
   "metadata": {
    "collapsed": false,
    "pycharm": {
     "name": "#%%\n"
    }
   }
  },
  {
   "cell_type": "code",
   "execution_count": null,
   "outputs": [],
   "source": [
    "p=train_df.columns\n",
    "list(train_df.iloc[0,1:])"
   ],
   "metadata": {
    "collapsed": false,
    "pycharm": {
     "name": "#%%\n"
    }
   }
  },
  {
   "cell_type": "code",
   "execution_count": null,
   "outputs": [],
   "source": [
    "# -----------------------------------------------MODEL TUNING AND TRAINING --------------------------------------------"
   ],
   "metadata": {
    "collapsed": false,
    "pycharm": {
     "name": "#%%\n"
    }
   }
  },
  {
   "cell_type": "code",
   "execution_count": null,
   "outputs": [],
   "source": [
    "train_df['one_hot_labels'] = list(train_df[label_cols[1:7]].values)\n",
    "labels = list(train_df['one_hot_labels'].values)"
   ],
   "metadata": {
    "collapsed": false,
    "pycharm": {
     "name": "#%%\n"
    }
   }
  },
  {
   "cell_type": "code",
   "execution_count": null,
   "outputs": [],
   "source": [
    "desc = list(train_df['Attribute description'].values)\n",
    "desc"
   ],
   "metadata": {
    "collapsed": false,
    "pycharm": {
     "name": "#%%\n"
    }
   }
  },
  {
   "cell_type": "code",
   "execution_count": null,
   "outputs": [],
   "source": [
    "# labels"
   ],
   "metadata": {
    "collapsed": false,
    "pycharm": {
     "name": "#%%\n"
    }
   }
  },
  {
   "cell_type": "code",
   "execution_count": null,
   "outputs": [],
   "source": [
    "X_train,X_test, Y_train, Y_test= train_test_split(desc,labels, test_size=0.1, random_state=100)"
   ],
   "metadata": {
    "collapsed": false,
    "pycharm": {
     "name": "#%%\n"
    }
   }
  },
  {
   "cell_type": "code",
   "execution_count": null,
   "outputs": [],
   "source": [
    "tok=Tokenizer(\n",
    "    num_words=90000,\n",
    "    filters='!\"#$%&()*+,-./:;<=>?@[\\\\]^_`{|}~\\t\\n0123456789',\n",
    "    lower=False,\n",
    "    split=' ',\n",
    "    char_level=False,\n",
    "    oov_token=None,\n",
    "    document_count=0\n",
    ")\n",
    "tok.fit_on_texts(X_train)\n",
    "X_train=tok.texts_to_sequences(X_train)\n",
    "tok.fit_on_texts(X_test)\n",
    "X_test=tok.texts_to_sequences(X_test)"
   ],
   "metadata": {
    "collapsed": false,
    "pycharm": {
     "name": "#%%\n"
    }
   }
  },
  {
   "cell_type": "code",
   "execution_count": null,
   "outputs": [],
   "source": [
    "maxlen = 500\n",
    "X_train = pad_sequences(X_train, padding='post', maxlen=maxlen)\n",
    "X_test = pad_sequences(X_test, padding='post', maxlen=maxlen)\n"
   ],
   "metadata": {
    "collapsed": false,
    "pycharm": {
     "name": "#%%\n"
    }
   }
  },
  {
   "cell_type": "code",
   "execution_count": null,
   "outputs": [],
   "source": [
    "Y_test= np.asarray(Y_test)\n",
    "Y_train= np.asarray(Y_train)"
   ],
   "metadata": {
    "collapsed": false,
    "pycharm": {
     "name": "#%%\n"
    }
   }
  },
  {
   "cell_type": "code",
   "execution_count": null,
   "outputs": [],
   "source": [
    "X_train.shape, X_test.shape, Y_test.shape, Y_train.shape"
   ],
   "metadata": {
    "collapsed": false,
    "pycharm": {
     "name": "#%%\n"
    }
   }
  },
  {
   "cell_type": "code",
   "execution_count": null,
   "outputs": [],
   "source": [
    "sc = StandardScaler()\n",
    "X_train = sc.fit_transform(X_train)"
   ],
   "metadata": {
    "collapsed": false,
    "pycharm": {
     "name": "#%%\n"
    }
   }
  },
  {
   "cell_type": "code",
   "execution_count": null,
   "outputs": [],
   "source": [
    "data=[]\n",
    "for a in attribute_dict:\n",
    "   data.append(a.description)\n",
    "clean_class_data(data)\n",
    "tok.fit_on_texts(data)\n",
    "data_vector=tok.texts_to_sequences(data)"
   ],
   "metadata": {
    "collapsed": false,
    "pycharm": {
     "name": "#%%\n"
    }
   }
  },
  {
   "cell_type": "code",
   "execution_count": null,
   "outputs": [],
   "source": [
    "data_vector = pad_sequences(data_vector, padding='post', maxlen=maxlen)\n",
    "data_vector = sc.fit_transform(data_vector)"
   ],
   "metadata": {
    "collapsed": false,
    "pycharm": {
     "name": "#%%\n"
    }
   }
  },
  {
   "cell_type": "code",
   "execution_count": null,
   "outputs": [],
   "source": [
    "svm = LinearSVC()\n",
    "forest = RandomForestClassifier(random_state=40)"
   ],
   "metadata": {
    "collapsed": false,
    "pycharm": {
     "name": "#%%\n"
    }
   }
  },
  {
   "cell_type": "code",
   "execution_count": null,
   "outputs": [],
   "source": [
    "cls = ['Attribute description', 'AttVal', 'AttValNot', 'AttPres',\n",
    "       'ReqIfAttNotPres', 'NotReqIfAttPres', 'Txt']\n",
    "multilabel_classifier = MultiOutputClassifier(estimator=svm)\n",
    "# multilabel_classifier = MultiOutputClassifier(forest, n_jobs=2)\n",
    "print(multilabel_classifier)"
   ],
   "metadata": {
    "collapsed": false,
    "pycharm": {
     "name": "#%%\n"
    }
   }
  },
  {
   "cell_type": "code",
   "execution_count": null,
   "outputs": [],
   "source": [
    "multilabel_classifier = multilabel_classifier.fit(X_train, Y_train)"
   ],
   "metadata": {
    "collapsed": false,
    "pycharm": {
     "name": "#%%\n"
    }
   }
  },
  {
   "cell_type": "code",
   "execution_count": null,
   "outputs": [],
   "source": [
    "# data_pred = pad_sequences(tok_data, padding='post', maxlen=maxlen)\n",
    "yhat = multilabel_classifier.predict(X_test)\n",
    "y_test_pred = multilabel_classifier.predict(data_vector)"
   ],
   "metadata": {
    "collapsed": false,
    "pycharm": {
     "name": "#%%\n"
    }
   }
  },
  {
   "cell_type": "code",
   "execution_count": null,
   "outputs": [],
   "source": [
    "yhat[10]"
   ],
   "metadata": {
    "collapsed": false,
    "pycharm": {
     "name": "#%%\n"
    }
   }
  },
  {
   "cell_type": "code",
   "execution_count": null,
   "outputs": [],
   "source": [
    "auc_y1 = roc_auc_score(Y_test[0],y_test_pred[0])\n",
    "auc_y2 = roc_auc_score(Y_test[1],y_test_pred[1])\n",
    "\n",
    "print(\"ROC AUC y1: %.4f, y2: %.4f\" % (auc_y1, auc_y2))"
   ],
   "metadata": {
    "collapsed": false,
    "pycharm": {
     "name": "#%%\n"
    }
   }
  },
  {
   "cell_type": "code",
   "execution_count": null,
   "outputs": [],
   "source": [
    "# sgd_linear_clf = SGDClassifier(loss='log', random_state=1, max_iter=5)\n",
    "# clf_w = MultiOutputClassifier(sgd_linear_clf)\n",
    "# clf_w.fit(X_train, Y_train)"
   ],
   "metadata": {
    "collapsed": false,
    "pycharm": {
     "name": "#%%\n"
    }
   }
  },
  {
   "cell_type": "code",
   "execution_count": null,
   "outputs": [],
   "source": [
    "len(y_test_pred)"
   ],
   "metadata": {
    "collapsed": false,
    "pycharm": {
     "name": "#%%\n"
    }
   }
  },
  {
   "cell_type": "code",
   "execution_count": null,
   "outputs": [],
   "source": [
    "for i in range(len(attribute_dict)):\n",
    "    dsc = attribute_dict[i].description\n",
    "    idx = y_test_pred[i]\n",
    "    print('Description: ', dsc, '\\n', 'Label: ', idx)"
   ],
   "metadata": {
    "collapsed": false,
    "pycharm": {
     "name": "#%%\n"
    }
   }
  },
  {
   "cell_type": "code",
   "execution_count": null,
   "outputs": [],
   "source": [
    "data[len(data)-1]"
   ],
   "metadata": {
    "collapsed": false,
    "pycharm": {
     "name": "#%%\n"
    }
   }
  },
  {
   "cell_type": "code",
   "execution_count": null,
   "outputs": [],
   "source": [
    "# ------------------------MODEL 2 ---------------------------------"
   ],
   "metadata": {
    "collapsed": false,
    "pycharm": {
     "name": "#%%\n"
    }
   }
  },
  {
   "cell_type": "code",
   "execution_count": null,
   "outputs": [],
   "source": [
    "input_1 = Input(shape=(maxlen,))\n",
    "embedding_layer = Embedding(10000, 128, trainable=True)(input_1)\n",
    "\n",
    "LSTM_Layer1 = (LSTM(128, return_sequences=True))(embedding_layer)\n",
    "dropout_1 = Dropout(0.3)(LSTM_Layer1)\n",
    "\n",
    "LSTM_Layer2 = (LSTM(128))(dropout_1)\n",
    "dropout_2 = Dropout(0.3)(LSTM_Layer2)\n",
    "dense_2 = Flatten()(dropout_2)\n",
    "\n",
    "output1 = Dense(6, activation='softmax')(dense_2)  #fake news\n",
    "#output2= Dense(8,activation='softmax')(dense_2)     #news subject\n",
    "\n",
    "model = Model(inputs=input_1, outputs=output1)\n",
    "model.compile(loss='categorical_crossentropy', optimizer='adam', metrics=['acc'])\n",
    "model.summary()\n",
    "model.fit(x=X_train, y=Y_train, batch_size=32, epochs=50)"
   ],
   "metadata": {
    "collapsed": false,
    "pycharm": {
     "name": "#%%\n"
    }
   }
  },
  {
   "cell_type": "code",
   "execution_count": null,
   "outputs": [],
   "source": [
    "model.summary()"
   ],
   "metadata": {
    "collapsed": false,
    "pycharm": {
     "name": "#%%\n"
    }
   }
  },
  {
   "cell_type": "code",
   "execution_count": null,
   "outputs": [],
   "source": [
    "model.fit(x=X_train,y=Y_train, batch_size=32, epochs=100)"
   ],
   "metadata": {
    "collapsed": false,
    "pycharm": {
     "name": "#%%\n"
    }
   }
  },
  {
   "cell_type": "code",
   "execution_count": null,
   "outputs": [],
   "source": [
    "loss,acc=model.evaluate(x=X_test,y=Y_test)"
   ],
   "metadata": {
    "collapsed": false,
    "pycharm": {
     "name": "#%%\n"
    }
   }
  },
  {
   "cell_type": "code",
   "execution_count": null,
   "outputs": [],
   "source": [
    "data = []\n",
    "for a in attribute_dict:\n",
    "    data.append(a.description)\n",
    "tok.fit_on_texts(data)\n",
    "tok_data = tok.texts_to_sequences(data)\n",
    "\n",
    "tok_data = pad_sequences(tok_data, padding='post', maxlen=maxlen)\n",
    "tok_data"
   ],
   "metadata": {
    "collapsed": false,
    "pycharm": {
     "name": "#%%\n"
    }
   }
  },
  {
   "cell_type": "code",
   "execution_count": null,
   "outputs": [],
   "source": [
    "y_val_predicted_labels = model.predict(data_vector)\n",
    "len(y_val_predicted_labels)"
   ],
   "metadata": {
    "collapsed": false,
    "pycharm": {
     "name": "#%%\n"
    }
   }
  },
  {
   "cell_type": "code",
   "execution_count": null,
   "outputs": [],
   "source": [
    "(y_val_predicted_labels[4])"
   ],
   "metadata": {
    "collapsed": false,
    "pycharm": {
     "name": "#%%\n"
    }
   }
  },
  {
   "cell_type": "code",
   "execution_count": null,
   "outputs": [],
   "source": [
    "for i in range(len(attribute_dict)):\n",
    "    dsc = attribute_dict[i].description\n",
    "    idx = np.argmax(y_val_predicted_labels[i])\n",
    "    print('Description: ', dsc, '\\n', 'Label: ', labels[idx])"
   ],
   "metadata": {
    "collapsed": false,
    "pycharm": {
     "name": "#%%\n"
    }
   }
  },
  {
   "cell_type": "code",
   "execution_count": 1,
   "outputs": [],
   "source": [
    "import DataRead as dr"
   ],
   "metadata": {
    "collapsed": false,
    "pycharm": {
     "name": "#%%\n"
    }
   }
  },
  {
   "cell_type": "code",
   "execution_count": 2,
   "outputs": [
    {
     "name": "stdout",
     "output_type": "stream",
     "text": [
      "type of its first element:  Instance with fields:\n",
      " \t text: TextField of length 9 with text: \n",
      " \t\t[Required, if, VALUE, ATTRIBUTE, TAG, value, is, VALUE, .]\n",
      " \t\tand TokenIndexers : {'tokens': 'SingleIdTokenIndexer'} \n",
      " \t labels: MultiLabelField with labels: ['AttVal', ' ', ' '] in namespace: 'labels'.' \n",
      "\n",
      "size of dataset:  108\n"
     ]
    }
   ],
   "source": [
    "reader = dr.LabelledData()\n",
    "dataset = list(reader.read(\"data.csv\"))\n",
    "\n",
    "print(\"type of its first element: \", dataset[9])\n",
    "print(\"size of dataset: \", len(dataset))"
   ],
   "metadata": {
    "collapsed": false,
    "pycharm": {
     "name": "#%%\n"
    }
   }
  },
  {
   "cell_type": "code",
   "execution_count": null,
   "outputs": [],
   "source": [],
   "metadata": {
    "collapsed": false,
    "pycharm": {
     "name": "#%%\n"
    }
   }
  },
  {
   "cell_type": "code",
   "execution_count": null,
   "outputs": [],
   "source": [],
   "metadata": {
    "collapsed": false,
    "pycharm": {
     "name": "#%%\n"
    }
   }
  }
 ],
 "metadata": {
  "kernelspec": {
   "display_name": "Python 3",
   "language": "python",
   "name": "python3"
  },
  "language_info": {
   "codemirror_mode": {
    "name": "ipython",
    "version": 2
   },
   "file_extension": ".py",
   "mimetype": "text/x-python",
   "name": "python",
   "nbconvert_exporter": "python",
   "pygments_lexer": "ipython2",
   "version": "2.7.6"
  }
 },
 "nbformat": 4,
 "nbformat_minor": 0
}