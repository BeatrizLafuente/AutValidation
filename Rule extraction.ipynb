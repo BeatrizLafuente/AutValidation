{
 "cells": [
  {
   "cell_type": "code",
   "execution_count": 1,
   "metadata": {
    "collapsed": true,
    "pycharm": {
     "name": "#%%\n"
    }
   },
   "outputs": [],
   "source": [
    "#from bs4 import BeautifulSoup\n",
    "import re\n",
    "import xml.etree.ElementTree as ET\n",
    "from attribute import Attribute as att"
   ]
  },
  {
   "cell_type": "code",
   "execution_count": 2,
   "outputs": [],
   "source": [
    "my_parser = ET.XMLParser(encoding='utf-8')\n",
    "tree = ET.parse('xml DICOM', parser=my_parser)\n",
    "root = tree.getroot()"
   ],
   "metadata": {
    "collapsed": false,
    "pycharm": {
     "name": "#%%\n"
    }
   }
  },
  {
   "cell_type": "code",
   "execution_count": 3,
   "outputs": [],
   "source": [
    "c=[]\n",
    "c = root.findall(\".//ItemEntry[@Type='1C']\") + root.findall(\".//ItemEntry[@Type='2C']\")"
   ],
   "metadata": {
    "collapsed": false,
    "pycharm": {
     "name": "#%%\n"
    }
   }
  },
  {
   "cell_type": "code",
   "execution_count": 11,
   "outputs": [],
   "source": [
    "#Dictionary with conditional attributes:\n",
    "attribute_dict = []\n",
    "for a in range(len(c)):\n",
    "    description = c[a].attrib['Description']\n",
    "    tag = c[a].attrib['Tag']\n",
    "    type = c[a].attrib['Type']\n",
    "    attribute_dicom = att(description,tag, type)\n",
    "    attribute_dict.append(attribute_dicom)"
   ],
   "metadata": {
    "collapsed": false,
    "pycharm": {
     "name": "#%%\n"
    }
   }
  },
  {
   "cell_type": "code",
   "execution_count": 13,
   "outputs": [
    {
     "name": "stdout",
     "output_type": "stream",
     "text": [
      "Identifier that identifies the Requested Procedure in the Imaging Service Request. Required if procedure was scheduled. May be present otherwise. Note: The condition is to allow the contents of this Macro to be present (e.g., to convey the reason for the procedure, such as whether a mammogram is for screening or diagnostic purposes) even when the procedure was not formally scheduled and a value for this identifier is unknown, rather than making up a dummy value.\n",
      "Identifier that identifies the Requested Procedure in the Imaging Service Request. Required if procedure was scheduled. May be present otherwise. \n"
     ]
    }
   ],
   "source": [
    "# 24, 38\n",
    "print(attribute_dict[38].description)\n",
    "attribute_noNote= att.clean_note(attribute_dict)\n",
    "print(attribute_noNote[38].description)"
   ],
   "metadata": {
    "collapsed": false,
    "pycharm": {
     "name": "#%%\n"
    }
   }
  },
  {
   "cell_type": "code",
   "execution_count": 7,
   "outputs": [
    {
     "name": "stdout",
     "output_type": "stream",
     "text": [
      "118\n"
     ]
    }
   ],
   "source": [
    "# TODO: convert to a method in attribute\n",
    "# TODO: search for examples for the rest of the classes\n",
    "required = []\n",
    "for a in attribute_dict:\n",
    "    if 'Required if' in a.description:\n",
    "        required.append(a)\n",
    "print(len(required))"
   ],
   "metadata": {
    "collapsed": false,
    "pycharm": {
     "name": "#%%\n"
    }
   }
  },
  {
   "cell_type": "code",
   "execution_count": 8,
   "outputs": [
    {
     "name": "stdout",
     "output_type": "stream",
     "text": [
      "The identifier of the Coded Entry. See Section 8.1 (PS3.3:sect_8.1). Shall be present if Code Value (0008,0100) is not present and the Code Value is a URN or URL.\n",
      "25\n"
     ]
    }
   ],
   "source": [
    "cond_notReq = att.remove_required(attribute_dict,required)\n",
    "print(cond_notReq[3].description)\n",
    "print(len(cond_notReq))"
   ],
   "metadata": {
    "collapsed": false,
    "pycharm": {
     "name": "#%%\n"
    }
   }
  },
  {
   "cell_type": "code",
   "execution_count": null,
   "outputs": [],
   "source": [
    "rules_shall= att.find_shall(cond_notReq)\n",
    "print(len(rules_shall))"
   ],
   "metadata": {
    "collapsed": false,
    "pycharm": {
     "name": "#%%\n"
    }
   }
  },
  {
   "cell_type": "code",
   "execution_count": null,
   "outputs": [],
   "source": [],
   "metadata": {
    "collapsed": false,
    "pycharm": {
     "name": "#%%\n"
    }
   }
  }
 ],
 "metadata": {
  "kernelspec": {
   "display_name": "Python 3",
   "language": "python",
   "name": "python3"
  },
  "language_info": {
   "codemirror_mode": {
    "name": "ipython",
    "version": 2
   },
   "file_extension": ".py",
   "mimetype": "text/x-python",
   "name": "python",
   "nbconvert_exporter": "python",
   "pygments_lexer": "ipython2",
   "version": "2.7.6"
  }
 },
 "nbformat": 4,
 "nbformat_minor": 0
}